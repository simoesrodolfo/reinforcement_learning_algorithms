{
 "cells": [
  {
   "cell_type": "markdown",
   "metadata": {},
   "source": [
    "Reference: https://gist.github.com/tuxdna/7e29dd37300e308a80fc1559c343c545"
   ]
  },
  {
   "cell_type": "code",
   "execution_count": 1,
   "metadata": {},
   "outputs": [],
   "source": [
    "import numpy as np\n",
    "import pandas as pd\n",
    "import os"
   ]
  },
  {
   "cell_type": "code",
   "execution_count": 2,
   "metadata": {},
   "outputs": [],
   "source": [
    "problema = \"10 estados\""
   ]
  },
  {
   "cell_type": "code",
   "execution_count": 3,
   "metadata": {},
   "outputs": [],
   "source": [
    "states = [0,1,2,3,4,5,6,7,8,9] # estados\n",
    "actions = [0,1,2,3] # 0 norte, 1 sul, 2 leste, 3 oeste (N ^, S !, L >, O <)\n",
    "N_STATES = len(states)\n",
    "N_ACTIONS = len(actions)"
   ]
  },
  {
   "cell_type": "code",
   "execution_count": 4,
   "metadata": {},
   "outputs": [],
   "source": [
    "P = np.zeros((N_STATES, N_ACTIONS, N_STATES))  # transition probability\n",
    "R = np.zeros((N_STATES, N_ACTIONS, N_STATES))  # rewards"
   ]
  },
  {
   "cell_type": "code",
   "execution_count": 5,
   "metadata": {},
   "outputs": [
    {
     "name": "stdout",
     "output_type": "stream",
     "text": [
      "(10, 4, 10)\n"
     ]
    }
   ],
   "source": [
    "print(P.shape)\n",
    "#print(R.shape)"
   ]
  },
  {
   "cell_type": "code",
   "execution_count": 6,
   "metadata": {},
   "outputs": [],
   "source": [
    "# 0 norte, 1 sul, 2 leste, 3 oeste \n",
    "# P(s, a, s_), \n",
    "#em que a = [0, 1, 2, 3] -> (N ^, S !, L >, O <)\n",
    "\n",
    "#s=0, s_[1,2]\n",
    "P[0, 1, 5] = 0.5 #ir Pra sul\n",
    "P[0, 1, 0] = 0.5 #ficar Parado qdo vai Pra sul\n",
    "P[0, 2, 1] = 0.5 #ir Pra leste\n",
    "P[0, 2, 0] = 0.5 #ficar Parada na acao de ir Pra leste\n",
    "\n",
    "#s=1, s_[6, 2, 0]\n",
    "P[1, 1, 6] = 0.5 #ir Pra sul\n",
    "P[1, 1, 1] = 0.5 #ficar Parado qdo vai Pra sul\n",
    "P[1, 2, 2] = 0.5 #ir Pra leste\n",
    "P[1, 2, 1] = 0.5 #ficar Parada na acao de ir Pra leste\n",
    "P[1, 3, 0] = 0.5 #ir Pra oeste\n",
    "P[1, 3, 1] = 0.5 #ficar Parada na acao de ir Pra oeste\n",
    "\n",
    "#s=2, s_[7, 3, 1]\n",
    "P[2, 1, 7] = 0.5 #ir Pra sul\n",
    "P[2, 1, 2] = 0.5 #ficar Parado qdo vai Pra sul\n",
    "P[2, 2, 3] = 0.5 #ir Pra leste\n",
    "P[2, 2, 2] = 0.5 #ficar Parada na acao de ir Pra leste\n",
    "P[2, 3, 1] = 0.5 #ir Pra oeste\n",
    "P[2, 3, 2] = 0.5 #ficar Parada na acao de ir Pra oeste\n",
    "\n",
    "\n",
    "#s=3, s_[8, 4, 2]\n",
    "P[3, 1, 8] = 0.5 #ir Pra sul\n",
    "P[3, 1, 3] = 0.5 #ficar Parado qdo vai Pra sul\n",
    "P[3, 2, 4] = 0.5 #ir Pra leste\n",
    "P[3, 2, 3] = 0.5 #ficar Parada na acao de ir Pra leste\n",
    "P[3, 3, 2] = 0.5 #ir Pra oeste\n",
    "P[3, 3, 3] = 0.5 #ficar Parada na acao de ir Pra oeste\n",
    "\n",
    "#s=4, s_[4]\n",
    "P[4, 0, 4] = 0 #nao sair, Pois é a meta\n",
    "P[4, 1, 4] = 0 #nao sair, Pois é a meta\n",
    "P[4, 2, 4] = 0 #nao sair, Pois é a meta\n",
    "P[4, 3, 4] = 0 #nao sair, Pois é a meta\n",
    "\n",
    "\n",
    "#s=5, s_[0, 6]\n",
    "P[5, 0, 0] = 1 #ir Pra norte\n",
    "P[5, 2, 6] = 1 #ir Pra leste\n",
    "\n",
    "#s=6, s_[1, 5, 7]\n",
    "P[6, 0, 1] = 1 #ir Pra norte\n",
    "P[6, 3, 5] = 1 #ir Pra oeste\n",
    "P[6, 2, 7] = 1 #ir Pra leste\n",
    "\n",
    "#s=7, s_[2, 6, 8]\n",
    "P[7, 0, 2] = 1 #ir Pra norte\n",
    "P[7, 3, 6] = 1 #ir Pra oeste\n",
    "P[7, 2, 8] = 1 #ir Pra leste\n",
    "\n",
    "#s=8, s_[3, 7, 9]\n",
    "P[8, 0, 3] = 1 #ir Pra norte\n",
    "P[8, 3, 7] = 1 #ir Pra oeste\n",
    "P[8, 2, 9] = 1 #ir Pra leste\n",
    "\n",
    "\n",
    "#s=9, s_[4, 8]\n",
    "P[9, 0, 4] = 1 #ir Pra norte\n",
    "P[9, 3, 8] = 1 #ir Pra oeste\n"
   ]
  },
  {
   "cell_type": "code",
   "execution_count": 7,
   "metadata": {},
   "outputs": [],
   "source": [
    "# 0 norte, 1 sul, 2 leste, 3 oeste \n",
    "# R(s, a, s_), \n",
    "#em que a = [0, 1, 2, 3] -> (N ^, S !, L >, O <)\n",
    "\n",
    "#s=0, s_[1,2]\n",
    "R[0, 1, 5] = 1 #ir Pra sul\n",
    "R[0, 1, 0] = 1 #ficar Parado qdo vai Pra sul\n",
    "R[0, 2, 1] = 1 #ir Pra leste\n",
    "R[0, 2, 0] = 1 #ficar Parada na acao de ir Pra leste\n",
    "\n",
    "#s=1, s_[6, 2, 0]\n",
    "R[1, 1, 6] = 1 #ir Pra sul\n",
    "R[1, 1, 1] = 1 #ficar Parado qdo vai Pra sul\n",
    "R[1, 2, 2] = 1 #ir Pra leste\n",
    "R[1, 2, 1] = 1 #ficar Parada na acao de ir Pra leste\n",
    "R[1, 3, 0] = 1 #ir Pra oeste\n",
    "R[1, 3, 1] = 1 #ficar Parada na acao de ir Pra oeste\n",
    "\n",
    "#s=2, s_[7, 3, 1]\n",
    "R[2, 1, 7] = 1 #ir Pra sul\n",
    "R[2, 1, 2] = 1 #ficar Parado qdo vai Pra sul\n",
    "R[2, 2, 3] = 1 #ir Pra leste\n",
    "R[2, 2, 2] = 1 #ficar Parada na acao de ir Pra leste\n",
    "R[2, 3, 1] = 1 #ir Pra oeste\n",
    "R[2, 3, 2] = 1 #ficar Parada na acao de ir Pra oeste\n",
    "\n",
    "\n",
    "#s=3, s_[8, 4, 2]\n",
    "R[3, 1, 8] = 1 #ir Pra sul\n",
    "R[3, 1, 3] = 1 #ficar Parado qdo vai Pra sul\n",
    "R[3, 2, 4] = 1 #ir Pra leste\n",
    "R[3, 2, 3] = 1 #ficar Parada na acao de ir Pra leste\n",
    "R[3, 3, 2] = 1 #ir Pra oeste\n",
    "R[3, 3, 3] = 1 #ficar Parada na acao de ir Pra oeste\n",
    "\n",
    "#s=4, s_[4]\n",
    "R[4, 0, 4] = 0 #nao sair, Pois é a meta\n",
    "R[4, 1, 4] = 0 #nao sair, Pois é a meta\n",
    "R[4, 2, 4] = 0 #nao sair, Pois é a meta\n",
    "R[4, 3, 4] = 0 #nao sair, Pois é a meta\n",
    "\n",
    "\n",
    "#s=5, s_[0, 6]\n",
    "R[5, 0, 0] = 1 #ir Pra norte\n",
    "R[5, 2, 6] = 1 #ir Pra leste\n",
    "\n",
    "#s=6, s_[1, 5, 7]\n",
    "R[6, 0, 1] = 1 #ir Pra norte\n",
    "R[6, 3, 5] = 1 #ir Pra oeste\n",
    "R[6, 2, 7] = 1 #ir Pra leste\n",
    "\n",
    "#s=7, s_[2, 6, 8]\n",
    "R[7, 0, 2] = 1 #ir Pra norte\n",
    "R[7, 3, 6] = 1 #ir Pra oeste\n",
    "R[7, 2, 8] = 1 #ir Pra leste\n",
    "\n",
    "#s=8, s_[3, 7, 9]\n",
    "R[8, 0, 3] = 1 #ir Pra norte\n",
    "R[8, 3, 7] = 1 #ir Pra oeste\n",
    "R[8, 2, 9] = 1 #ir Pra leste\n",
    "\n",
    "\n",
    "#s=9, s_[4, 8]\n",
    "R[9, 0, 4] = 1 #ir Pra norte\n",
    "R[9, 3, 8] = 1 #ir Pra oeste\n"
   ]
  },
  {
   "cell_type": "code",
   "execution_count": 9,
   "metadata": {},
   "outputs": [],
   "source": [
    "#(a) obtenha politica  para todo s pertencente S\n",
    "def a(MDP, R, V, policy, gamma):\n",
    "        \n",
    "    V_old = V.copy()\n",
    "    for s in range(MDP.shape[0]):\n",
    "        q_best = V[s]\n",
    "        for a in (i for i, val in enumerate(MDP[s]) if np.count_nonzero(val) > 0): \n",
    "            q_sa = sum([MDP[s, a, s_] * (R[s, a, s_] + gamma * V_old[s_]) for s_ in range(MDP.shape[2])])\n",
    "            if q_sa < q_best: #quero minimizar o custo entao qsa<qbest\n",
    "                policy[s] = a\n",
    "                q_best = q_sa\n",
    "\n",
    "    return policy\n"
   ]
  },
  {
   "cell_type": "code",
   "execution_count": 10,
   "metadata": {},
   "outputs": [],
   "source": [
    "#(b) repita m vezes para todo s pertencente S\n",
    "def b(MDP, R, V, m, policy, gamma):\n",
    "    \n",
    "    for i in range(m):\n",
    "        V_old = V.copy()\n",
    "        for s in range(MDP.shape[0]):\n",
    "            V[s] = sum([MDP[s, policy[s] ,s_] * (R[s, policy[s], s_] + gamma * V_old[s_]) for s_ in range(MDP.shape[2])])\n",
    "    \n",
    "    return V"
   ]
  },
  {
   "cell_type": "code",
   "execution_count": 11,
   "metadata": {},
   "outputs": [],
   "source": [
    "#(c) para todo s pertencente S\n",
    "def c(MDP, R, V, policy, gamma):\n",
    "    V_old = V.copy()\n",
    "    for s in range(MDP.shape[0]):\n",
    "        Q = []\n",
    "        q_best = 10000000\n",
    "        for a in (i for i, val in enumerate(MDP[s]) if np.count_nonzero(val) > 0):\n",
    "            q_sa = sum(MDP[s][a][s_] * (R[s][a][s_] + (V_old[s_] * gamma)) for s_ in range(MDP.shape[2]))\n",
    "            Q.append(q_sa)                    \n",
    "            if q_sa < q_best:\n",
    "                policy[s] = a\n",
    "                q_best = q_sa\n",
    "\n",
    "        try:    \n",
    "            #escolhe o minimo das acoes possiveis para s\n",
    "            V[s] = min(Q) \n",
    "        except:\n",
    "            V[s] = 0\n",
    "    \n",
    "    return V"
   ]
  },
  {
   "cell_type": "code",
   "execution_count": 12,
   "metadata": {},
   "outputs": [],
   "source": [
    "def modified_policy_iteration(MDP, R, m, epsilon, gamma):\n",
    "        \n",
    "    list_V = []\n",
    "    list_policy = []\n",
    "    policy = [0] * MDP.shape[0]\n",
    "    V = np.zeros(MDP.shape[0])\n",
    "    epoca = 1\n",
    "    num_iter = 0\n",
    "    while True:\n",
    "        print('****** Epoca: ', epoca)\n",
    "        V_old = V.copy()\n",
    "        \n",
    "        #metodo a\n",
    "        #def a(MDP, R, V, policy, gamma):\n",
    "        policy = a(MDP, R, V, policy, gamma)\n",
    "        num_iter = num_iter + (MDP.shape[0] * MDP.shape[1])\n",
    "        \n",
    "        #metodo b\n",
    "        #def b(MDP, R, V, m, policy, gamma):\n",
    "        V = b(MDP, R, V, m, policy, gamma)\n",
    "        num_iter = num_iter + (m * MDP.shape[0])\n",
    "        \n",
    "        #metodo c\n",
    "        #def c(MDP, R, V, policy, gamma):\n",
    "        V = c(MDP, R, V, policy, gamma)\n",
    "        num_iter = num_iter + (MDP.shape[0] * MDP.shape[1])\n",
    "            \n",
    "        #print(V)\n",
    "        list_V.append(str(V))\n",
    "        list_policy.append(str(policy))\n",
    "        \n",
    "        residuals = np.absolute(np.sum(V - V_old))\n",
    "        if  residuals < epsilon:\n",
    "            break\n",
    "            \n",
    "\n",
    "        epoca = epoca + 1\n",
    "\n",
    "        \n",
    "    return V, policy, epoca, num_iter, list_V, list_policy "
   ]
  },
  {
   "cell_type": "code",
   "execution_count": 13,
   "metadata": {},
   "outputs": [
    {
     "name": "stdout",
     "output_type": "stream",
     "text": [
      "****** Epoca:  1\n",
      "****** Epoca:  2\n",
      "****** Epoca:  3\n",
      "****** Epoca:  4\n",
      "****** Epoca:  5\n"
     ]
    }
   ],
   "source": [
    "gamma = 1\n",
    "epsilon = 0.001\n",
    "m = 10\n",
    "V, policy, epoca, num_iter, list_V, list_policy   = modified_policy_iteration(P, R, m, epsilon, gamma)"
   ]
  },
  {
   "cell_type": "code",
   "execution_count": 14,
   "metadata": {},
   "outputs": [
    {
     "data": {
      "text/plain": [
       "array([7.00000012, 6.        , 4.        , 2.        , 0.        ,\n",
       "       5.        , 4.        , 3.        , 2.        , 1.        ])"
      ]
     },
     "execution_count": 14,
     "metadata": {},
     "output_type": "execute_result"
    }
   ],
   "source": [
    "V"
   ]
  },
  {
   "cell_type": "code",
   "execution_count": 16,
   "metadata": {},
   "outputs": [
    {
     "data": {
      "text/plain": [
       "5"
      ]
     },
     "execution_count": 16,
     "metadata": {},
     "output_type": "execute_result"
    }
   ],
   "source": [
    "epoca"
   ]
  },
  {
   "cell_type": "code",
   "execution_count": 17,
   "metadata": {},
   "outputs": [
    {
     "data": {
      "text/plain": [
       "[1, 2, 2, 2, 0, 2, 2, 2, 2, 0]"
      ]
     },
     "execution_count": 17,
     "metadata": {},
     "output_type": "execute_result"
    }
   ],
   "source": [
    "policy"
   ]
  },
  {
   "cell_type": "code",
   "execution_count": null,
   "metadata": {},
   "outputs": [],
   "source": []
  }
 ],
 "metadata": {
  "kernelspec": {
   "display_name": "Python 3",
   "language": "python",
   "name": "python3"
  },
  "language_info": {
   "codemirror_mode": {
    "name": "ipython",
    "version": 3
   },
   "file_extension": ".py",
   "mimetype": "text/x-python",
   "name": "python",
   "nbconvert_exporter": "python",
   "pygments_lexer": "ipython3",
   "version": "3.6.5"
  }
 },
 "nbformat": 4,
 "nbformat_minor": 2
}
