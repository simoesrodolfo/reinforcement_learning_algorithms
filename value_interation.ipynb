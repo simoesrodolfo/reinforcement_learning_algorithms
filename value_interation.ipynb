{
 "cells": [
  {
   "cell_type": "code",
   "execution_count": 1,
   "metadata": {},
   "outputs": [],
   "source": [
    "import numpy as np\n",
    "import pandas as pd\n",
    "import os"
   ]
  },
  {
   "cell_type": "code",
   "execution_count": 2,
   "metadata": {},
   "outputs": [],
   "source": [
    "problema = \"10 estados\""
   ]
  },
  {
   "cell_type": "markdown",
   "metadata": {},
   "source": [
    "Acoes cardinais (N ^, S !, L >, O <). Na linha Det as acoes sai deterministicas. Na linha prob as acoes resultam com 0.5 de chance ir ou ficar parado. Custo por ação = 1 \n",
    "\n",
    "Prob [[1, 2, 3, 4, 5],\n",
    "\n",
    "Det.  [6, 7, 8, 9, 10]]\n",
    "\n",
    "s0 = 1\n",
    "G = 5"
   ]
  },
  {
   "cell_type": "code",
   "execution_count": 3,
   "metadata": {},
   "outputs": [],
   "source": [
    "states = [0,1,2,3,4,5,6,7,8,9] # estados\n",
    "actions = [0,1,2,3] # 0 norte, 1 sul, 2 leste, 3 oeste (N ^, S !, L >, O <)"
   ]
  },
  {
   "cell_type": "code",
   "execution_count": 4,
   "metadata": {},
   "outputs": [
    {
     "name": "stdout",
     "output_type": "stream",
     "text": [
      "10\n",
      "4\n"
     ]
    }
   ],
   "source": [
    "N_STATES = len(states)\n",
    "N_ACTIONS = len(actions)\n",
    "print(N_STATES)\n",
    "print(N_ACTIONS)"
   ]
  },
  {
   "cell_type": "code",
   "execution_count": 5,
   "metadata": {},
   "outputs": [
    {
     "name": "stdout",
     "output_type": "stream",
     "text": [
      "(10, 4, 10)\n",
      "(10, 4, 10)\n"
     ]
    }
   ],
   "source": [
    "P = np.zeros((N_STATES, N_ACTIONS, N_STATES))  # transition probability\n",
    "R = np.zeros((N_STATES, N_ACTIONS, N_STATES))  # rewards\n",
    "print(P.shape)\n",
    "print(R.shape)"
   ]
  },
  {
   "cell_type": "code",
   "execution_count": 6,
   "metadata": {},
   "outputs": [],
   "source": [
    "# 0 norte, 1 sul, 2 leste, 3 oeste \n",
    "# P(s, a, s_), \n",
    "#em que a = [0, 1, 2, 3] -> (N ^, S !, L >, O <)\n",
    "\n",
    "#s=0, s_[1,2]\n",
    "P[0, 1, 5] = 0.5 #ir Pra sul\n",
    "P[0, 1, 0] = 0.5 #ficar Parado qdo vai Pra sul\n",
    "P[0, 2, 1] = 0.5 #ir Pra leste\n",
    "P[0, 2, 0] = 0.5 #ficar Parada na acao de ir Pra leste\n",
    "\n",
    "#s=1, s_[6, 2, 0]\n",
    "P[1, 1, 6] = 0.5 #ir Pra sul\n",
    "P[1, 1, 1] = 0.5 #ficar Parado qdo vai Pra sul\n",
    "P[1, 2, 2] = 0.5 #ir Pra leste\n",
    "P[1, 2, 1] = 0.5 #ficar Parada na acao de ir Pra leste\n",
    "P[1, 3, 0] = 0.5 #ir Pra oeste\n",
    "P[1, 3, 1] = 0.5 #ficar Parada na acao de ir Pra oeste\n",
    "\n",
    "#s=2, s_[7, 3, 1]\n",
    "P[2, 1, 7] = 0.5 #ir Pra sul\n",
    "P[2, 1, 2] = 0.5 #ficar Parado qdo vai Pra sul\n",
    "P[2, 2, 3] = 0.5 #ir Pra leste\n",
    "P[2, 2, 2] = 0.5 #ficar Parada na acao de ir Pra leste\n",
    "P[2, 3, 1] = 0.5 #ir Pra oeste\n",
    "P[2, 3, 2] = 0.5 #ficar Parada na acao de ir Pra oeste\n",
    "\n",
    "\n",
    "#s=3, s_[8, 4, 2]\n",
    "P[3, 1, 8] = 0.5 #ir Pra sul\n",
    "P[3, 1, 3] = 0.5 #ficar Parado qdo vai Pra sul\n",
    "P[3, 2, 4] = 0.5 #ir Pra leste\n",
    "P[3, 2, 3] = 0.5 #ficar Parada na acao de ir Pra leste\n",
    "P[3, 3, 2] = 0.5 #ir Pra oeste\n",
    "P[3, 3, 3] = 0.5 #ficar Parada na acao de ir Pra oeste\n",
    "\n",
    "#s=4, s_[4]\n",
    "P[4, 0, 4] = 0 #nao sair, Pois é a meta\n",
    "P[4, 1, 4] = 0 #nao sair, Pois é a meta\n",
    "P[4, 2, 4] = 0 #nao sair, Pois é a meta\n",
    "P[4, 3, 4] = 0 #nao sair, Pois é a meta\n",
    "\n",
    "\n",
    "#s=5, s_[0, 6]\n",
    "P[5, 0, 0] = 1 #ir Pra norte\n",
    "P[5, 2, 6] = 1 #ir Pra leste\n",
    "\n",
    "#s=6, s_[1, 5, 7]\n",
    "P[6, 0, 1] = 1 #ir Pra norte\n",
    "P[6, 3, 5] = 1 #ir Pra oeste\n",
    "P[6, 2, 7] = 1 #ir Pra leste\n",
    "\n",
    "#s=7, s_[2, 6, 8]\n",
    "P[7, 0, 2] = 1 #ir Pra norte\n",
    "P[7, 3, 6] = 1 #ir Pra oeste\n",
    "P[7, 2, 8] = 1 #ir Pra leste\n",
    "\n",
    "#s=8, s_[3, 7, 9]\n",
    "P[8, 0, 3] = 1 #ir Pra norte\n",
    "P[8, 3, 7] = 1 #ir Pra oeste\n",
    "P[8, 2, 9] = 1 #ir Pra leste\n",
    "\n",
    "\n",
    "#s=9, s_[4, 8]\n",
    "P[9, 0, 4] = 1 #ir Pra norte\n",
    "P[9, 3, 8] = 1 #ir Pra oeste\n"
   ]
  },
  {
   "cell_type": "code",
   "execution_count": 7,
   "metadata": {},
   "outputs": [],
   "source": [
    "# 0 norte, 1 sul, 2 leste, 3 oeste \n",
    "# R(s, a, s_), \n",
    "#em que a = [0, 1, 2, 3] -> (N ^, S !, L >, O <)\n",
    "\n",
    "#s=0, s_[1,2]\n",
    "R[0, 1, 5] = 1 #ir Pra sul\n",
    "R[0, 1, 0] = 1 #ficar Parado qdo vai Pra sul\n",
    "R[0, 2, 1] = 1 #ir Pra leste\n",
    "R[0, 2, 0] = 1 #ficar Parada na acao de ir Pra leste\n",
    "\n",
    "#s=1, s_[6, 2, 0]\n",
    "R[1, 1, 6] = 1 #ir Pra sul\n",
    "R[1, 1, 1] = 1 #ficar Parado qdo vai Pra sul\n",
    "R[1, 2, 2] = 1 #ir Pra leste\n",
    "R[1, 2, 1] = 1 #ficar Parada na acao de ir Pra leste\n",
    "R[1, 3, 0] = 1 #ir Pra oeste\n",
    "R[1, 3, 1] = 1 #ficar Parada na acao de ir Pra oeste\n",
    "\n",
    "#s=2, s_[7, 3, 1]\n",
    "R[2, 1, 7] = 1 #ir Pra sul\n",
    "R[2, 1, 2] = 1 #ficar Parado qdo vai Pra sul\n",
    "R[2, 2, 3] = 1 #ir Pra leste\n",
    "R[2, 2, 2] = 1 #ficar Parada na acao de ir Pra leste\n",
    "R[2, 3, 1] = 1 #ir Pra oeste\n",
    "R[2, 3, 2] = 1 #ficar Parada na acao de ir Pra oeste\n",
    "\n",
    "\n",
    "#s=3, s_[8, 4, 2]\n",
    "R[3, 1, 8] = 1 #ir Pra sul\n",
    "R[3, 1, 3] = 1 #ficar Parado qdo vai Pra sul\n",
    "R[3, 2, 4] = 1 #ir Pra leste\n",
    "R[3, 2, 3] = 1 #ficar Parada na acao de ir Pra leste\n",
    "R[3, 3, 2] = 1 #ir Pra oeste\n",
    "R[3, 3, 3] = 1 #ficar Parada na acao de ir Pra oeste\n",
    "\n",
    "#s=4, s_[4]\n",
    "R[4, 0, 4] = 0 #nao sair, Pois é a meta\n",
    "R[4, 1, 4] = 0 #nao sair, Pois é a meta\n",
    "R[4, 2, 4] = 0 #nao sair, Pois é a meta\n",
    "R[4, 3, 4] = 0 #nao sair, Pois é a meta\n",
    "\n",
    "\n",
    "#s=5, s_[0, 6]\n",
    "R[5, 0, 0] = 1 #ir Pra norte\n",
    "R[5, 2, 6] = 1 #ir Pra leste\n",
    "\n",
    "#s=6, s_[1, 5, 7]\n",
    "R[6, 0, 1] = 1 #ir Pra norte\n",
    "R[6, 3, 5] = 1 #ir Pra oeste\n",
    "R[6, 2, 7] = 1 #ir Pra leste\n",
    "\n",
    "#s=7, s_[2, 6, 8]\n",
    "R[7, 0, 2] = 1 #ir Pra norte\n",
    "R[7, 3, 6] = 1 #ir Pra oeste\n",
    "R[7, 2, 8] = 1 #ir Pra leste\n",
    "\n",
    "#s=8, s_[3, 7, 9]\n",
    "R[8, 0, 3] = 1 #ir Pra norte\n",
    "R[8, 3, 7] = 1 #ir Pra oeste\n",
    "R[8, 2, 9] = 1 #ir Pra leste\n",
    "\n",
    "\n",
    "#s=9, s_[4, 8]\n",
    "R[9, 0, 4] = 1 #ir Pra norte\n",
    "R[9, 3, 8] = 1 #ir Pra oeste\n"
   ]
  },
  {
   "cell_type": "code",
   "execution_count": 15,
   "metadata": {},
   "outputs": [],
   "source": [
    "def value_iteration(MDP, R, epsilon, gamma):\n",
    "       \n",
    "    list_V = []\n",
    "    list_policy = []\n",
    "    numIter = 0\n",
    "    V=np.zeros(len(states))\n",
    "    policy = np.zeros(len(states))\n",
    "    epoca =1\n",
    "\n",
    "    while True:\n",
    "\n",
    "        print('****** Epoca: ', epoca)\n",
    "        \n",
    "        Vold = V.copy()\n",
    "    \n",
    "        for s in range(MDP.shape[0]):\n",
    "            Q = []\n",
    "            q_best = 10000000\n",
    "            \n",
    "            for a in (i for i, val in enumerate(MDP[s]) if np.count_nonzero(val) > 0):\n",
    "                q_sa = sum(MDP[s][a][s_] * (R[s][a][s_] + (Vold[s_] * gamma)) for s_ in range(MDP.shape[2]))\n",
    "                Q.append(q_sa)                    \n",
    "                if q_sa < q_best:\n",
    "                    policy[s] = a\n",
    "                    q_best = q_sa\n",
    "               \n",
    "            try:    \n",
    "                V[s] = min(Q) \n",
    "            except:\n",
    "                V[s] = 0\n",
    "                    \n",
    "        numIter = numIter + (MDP.shape[0] * MDP.shape[1])\n",
    "\n",
    "        list_V.append(str(V))\n",
    "        list_policy.append(str(policy))\n",
    "        if np.absolute(np.sum(V - Vold)) < epsilon:\n",
    "            return V, policy, numIter, epoca, list_V, list_policy\n",
    "\n",
    "\n",
    "        epoca +=1"
   ]
  },
  {
   "cell_type": "code",
   "execution_count": 16,
   "metadata": {},
   "outputs": [
    {
     "name": "stdout",
     "output_type": "stream",
     "text": [
      "****** Epoca:  1\n",
      "****** Epoca:  2\n",
      "****** Epoca:  3\n",
      "****** Epoca:  4\n",
      "****** Epoca:  5\n",
      "****** Epoca:  6\n",
      "****** Epoca:  7\n",
      "****** Epoca:  8\n",
      "****** Epoca:  9\n",
      "****** Epoca:  10\n",
      "****** Epoca:  11\n",
      "****** Epoca:  12\n",
      "****** Epoca:  13\n",
      "****** Epoca:  14\n",
      "****** Epoca:  15\n",
      "****** Epoca:  16\n",
      "****** Epoca:  17\n",
      "****** Epoca:  18\n",
      "****** Epoca:  19\n"
     ]
    }
   ],
   "source": [
    "V, politica, numIter, epoca, list_V, list_policy = value_iteration(P, R, 0.001, 1)"
   ]
  },
  {
   "cell_type": "markdown",
   "metadata": {},
   "source": [
    "#### Solução esperada\n",
    "array([6.99984741, 5.99919128, 3.99991989, 1.99999619, 0.        ,\n",
    "       5.        , 4.        , 3.        , 2.        , 1.        ])"
   ]
  },
  {
   "cell_type": "code",
   "execution_count": 17,
   "metadata": {},
   "outputs": [
    {
     "data": {
      "text/plain": [
       "array([6.99984741, 5.99919128, 3.99991989, 1.99999619, 0.        ,\n",
       "       5.        , 4.        , 3.        , 2.        , 1.        ])"
      ]
     },
     "execution_count": 17,
     "metadata": {},
     "output_type": "execute_result"
    }
   ],
   "source": [
    "V"
   ]
  },
  {
   "cell_type": "code",
   "execution_count": 18,
   "metadata": {},
   "outputs": [
    {
     "data": {
      "text/plain": [
       "array([1., 2., 2., 2., 0., 2., 2., 2., 2., 0.])"
      ]
     },
     "execution_count": 18,
     "metadata": {},
     "output_type": "execute_result"
    }
   ],
   "source": [
    "politica"
   ]
  },
  {
   "cell_type": "code",
   "execution_count": 19,
   "metadata": {},
   "outputs": [
    {
     "data": {
      "text/plain": [
       "760"
      ]
     },
     "execution_count": 19,
     "metadata": {},
     "output_type": "execute_result"
    }
   ],
   "source": [
    "numIter"
   ]
  },
  {
   "cell_type": "code",
   "execution_count": 20,
   "metadata": {},
   "outputs": [
    {
     "data": {
      "text/plain": [
       "19"
      ]
     },
     "execution_count": 20,
     "metadata": {},
     "output_type": "execute_result"
    }
   ],
   "source": [
    "epoca"
   ]
  },
  {
   "cell_type": "code",
   "execution_count": null,
   "metadata": {},
   "outputs": [],
   "source": []
  }
 ],
 "metadata": {
  "kernelspec": {
   "display_name": "Python 3",
   "language": "python",
   "name": "python3"
  },
  "language_info": {
   "codemirror_mode": {
    "name": "ipython",
    "version": 3
   },
   "file_extension": ".py",
   "mimetype": "text/x-python",
   "name": "python",
   "nbconvert_exporter": "python",
   "pygments_lexer": "ipython3",
   "version": "3.6.5"
  }
 },
 "nbformat": 4,
 "nbformat_minor": 2
}
