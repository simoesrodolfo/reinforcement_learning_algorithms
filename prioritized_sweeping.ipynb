{
 "cells": [
  {
   "cell_type": "code",
   "execution_count": 1,
   "metadata": {},
   "outputs": [],
   "source": [
    "# Reference: https://pdfs.semanticscholar.org/7824/11081e754b72da6565c41f3904de843b31d1.pdf"
   ]
  },
  {
   "cell_type": "code",
   "execution_count": 2,
   "metadata": {},
   "outputs": [],
   "source": [
    "import numpy as np\n",
    "import pandas as pd\n",
    "import os"
   ]
  },
  {
   "cell_type": "code",
   "execution_count": 3,
   "metadata": {},
   "outputs": [],
   "source": [
    "problema = \"10 estados\""
   ]
  },
  {
   "cell_type": "markdown",
   "metadata": {},
   "source": [
    "Acoes cardinais (N ^, S !, L >, O <). Na linha Det as acoes sai deterministicas. Na linha prob as acoes resultam com 0.5 de chance ir ou ficar parado. Custo por ação = 1 \n",
    "\n",
    "Prob [[1, 2, 3, 4, 5],\n",
    "\n",
    "Det.  [6, 7, 8, 9, 10]]\n",
    "\n",
    "s0 = 1\n",
    "G = 5"
   ]
  },
  {
   "cell_type": "code",
   "execution_count": 4,
   "metadata": {},
   "outputs": [],
   "source": [
    "states = [0,1,2,3,4,5,6,7,8,9] # estados\n",
    "actions = [0,1,2,3] # 0 norte, 1 sul, 2 leste, 3 oeste (N ^, S !, L >, O <)"
   ]
  },
  {
   "cell_type": "code",
   "execution_count": 5,
   "metadata": {},
   "outputs": [],
   "source": [
    "N_STATES = len(states)\n",
    "N_ACTIONS = len(actions)"
   ]
  },
  {
   "cell_type": "code",
   "execution_count": 6,
   "metadata": {},
   "outputs": [],
   "source": [
    "P = np.zeros((N_STATES, N_ACTIONS, N_STATES))  # transition probability\n",
    "R = np.zeros((N_STATES, N_ACTIONS, N_STATES))  # rewards"
   ]
  },
  {
   "cell_type": "code",
   "execution_count": 7,
   "metadata": {},
   "outputs": [],
   "source": [
    "# 0 norte, 1 sul, 2 leste, 3 oeste \n",
    "# P(s, a, s_), \n",
    "#em que a = [0, 1, 2, 3] -> (N ^, S !, L >, O <)\n",
    "\n",
    "#s=0, s_[1,2]\n",
    "P[0, 1, 5] = 0.5 #ir Pra sul\n",
    "P[0, 1, 0] = 0.5 #ficar Parado qdo vai Pra sul\n",
    "P[0, 2, 1] = 0.5 #ir Pra leste\n",
    "P[0, 2, 0] = 0.5 #ficar Parada na acao de ir Pra leste\n",
    "\n",
    "#s=1, s_[6, 2, 0]\n",
    "P[1, 1, 6] = 0.5 #ir Pra sul\n",
    "P[1, 1, 1] = 0.5 #ficar Parado qdo vai Pra sul\n",
    "P[1, 2, 2] = 0.5 #ir Pra leste\n",
    "P[1, 2, 1] = 0.5 #ficar Parada na acao de ir Pra leste\n",
    "P[1, 3, 0] = 0.5 #ir Pra oeste\n",
    "P[1, 3, 1] = 0.5 #ficar Parada na acao de ir Pra oeste\n",
    "\n",
    "#s=2, s_[7, 3, 1]\n",
    "P[2, 1, 7] = 0.5 #ir Pra sul\n",
    "P[2, 1, 2] = 0.5 #ficar Parado qdo vai Pra sul\n",
    "P[2, 2, 3] = 0.5 #ir Pra leste\n",
    "P[2, 2, 2] = 0.5 #ficar Parada na acao de ir Pra leste\n",
    "P[2, 3, 1] = 0.5 #ir Pra oeste\n",
    "P[2, 3, 2] = 0.5 #ficar Parada na acao de ir Pra oeste\n",
    "\n",
    "\n",
    "#s=3, s_[8, 4, 2]\n",
    "P[3, 1, 8] = 0.5 #ir Pra sul\n",
    "P[3, 1, 3] = 0.5 #ficar Parado qdo vai Pra sul\n",
    "P[3, 2, 4] = 0.5 #ir Pra leste\n",
    "P[3, 2, 3] = 0.5 #ficar Parada na acao de ir Pra leste\n",
    "P[3, 3, 2] = 0.5 #ir Pra oeste\n",
    "P[3, 3, 3] = 0.5 #ficar Parada na acao de ir Pra oeste\n",
    "\n",
    "#s=4, s_[4]\n",
    "P[4, 0, 4] = 0 #nao sair, Pois é a meta\n",
    "P[4, 1, 4] = 0 #nao sair, Pois é a meta\n",
    "P[4, 2, 4] = 0 #nao sair, Pois é a meta\n",
    "P[4, 3, 4] = 0 #nao sair, Pois é a meta\n",
    "\n",
    "\n",
    "#s=5, s_[0, 6]\n",
    "P[5, 0, 0] = 1 #ir Pra norte\n",
    "P[5, 2, 6] = 1 #ir Pra leste\n",
    "\n",
    "#s=6, s_[1, 5, 7]\n",
    "P[6, 0, 1] = 1 #ir Pra norte\n",
    "P[6, 3, 5] = 1 #ir Pra oeste\n",
    "P[6, 2, 7] = 1 #ir Pra leste\n",
    "\n",
    "#s=7, s_[2, 6, 8]\n",
    "P[7, 0, 2] = 1 #ir Pra norte\n",
    "P[7, 3, 6] = 1 #ir Pra oeste\n",
    "P[7, 2, 8] = 1 #ir Pra leste\n",
    "\n",
    "#s=8, s_[3, 7, 9]\n",
    "P[8, 0, 3] = 1 #ir Pra norte\n",
    "P[8, 3, 7] = 1 #ir Pra oeste\n",
    "P[8, 2, 9] = 1 #ir Pra leste\n",
    "\n",
    "\n",
    "#s=9, s_[4, 8]\n",
    "P[9, 0, 4] = 1 #ir Pra norte\n",
    "P[9, 3, 8] = 1 #ir Pra oeste\n"
   ]
  },
  {
   "cell_type": "code",
   "execution_count": 8,
   "metadata": {},
   "outputs": [],
   "source": [
    "# 0 norte, 1 sul, 2 leste, 3 oeste \n",
    "# R(s, a, s_), \n",
    "#em que a = [0, 1, 2, 3] -> (N ^, S !, L >, O <)\n",
    "\n",
    "#s=0, s_[1,2]\n",
    "R[0, 1, 5] = 1 #ir Pra sul\n",
    "R[0, 1, 0] = 1 #ficar Parado qdo vai Pra sul\n",
    "R[0, 2, 1] = 1 #ir Pra leste\n",
    "R[0, 2, 0] = 1 #ficar Parada na acao de ir Pra leste\n",
    "\n",
    "#s=1, s_[6, 2, 0]\n",
    "R[1, 1, 6] = 1 #ir Pra sul\n",
    "R[1, 1, 1] = 1 #ficar Parado qdo vai Pra sul\n",
    "R[1, 2, 2] = 1 #ir Pra leste\n",
    "R[1, 2, 1] = 1 #ficar Parada na acao de ir Pra leste\n",
    "R[1, 3, 0] = 1 #ir Pra oeste\n",
    "R[1, 3, 1] = 1 #ficar Parada na acao de ir Pra oeste\n",
    "\n",
    "#s=2, s_[7, 3, 1]\n",
    "R[2, 1, 7] = 1 #ir Pra sul\n",
    "R[2, 1, 2] = 1 #ficar Parado qdo vai Pra sul\n",
    "R[2, 2, 3] = 1 #ir Pra leste\n",
    "R[2, 2, 2] = 1 #ficar Parada na acao de ir Pra leste\n",
    "R[2, 3, 1] = 1 #ir Pra oeste\n",
    "R[2, 3, 2] = 1 #ficar Parada na acao de ir Pra oeste\n",
    "\n",
    "\n",
    "#s=3, s_[8, 4, 2]\n",
    "R[3, 1, 8] = 1 #ir Pra sul\n",
    "R[3, 1, 3] = 1 #ficar Parado qdo vai Pra sul\n",
    "R[3, 2, 4] = 1 #ir Pra leste\n",
    "R[3, 2, 3] = 1 #ficar Parada na acao de ir Pra leste\n",
    "R[3, 3, 2] = 1 #ir Pra oeste\n",
    "R[3, 3, 3] = 1 #ficar Parada na acao de ir Pra oeste\n",
    "\n",
    "#s=4, s_[4]\n",
    "R[4, 0, 4] = 0 #nao sair, Pois é a meta\n",
    "R[4, 1, 4] = 0 #nao sair, Pois é a meta\n",
    "R[4, 2, 4] = 0 #nao sair, Pois é a meta\n",
    "R[4, 3, 4] = 0 #nao sair, Pois é a meta\n",
    "\n",
    "\n",
    "#s=5, s_[0, 6]\n",
    "R[5, 0, 0] = 1 #ir Pra norte\n",
    "R[5, 2, 6] = 1 #ir Pra leste\n",
    "\n",
    "#s=6, s_[1, 5, 7]\n",
    "R[6, 0, 1] = 1 #ir Pra norte\n",
    "R[6, 3, 5] = 1 #ir Pra oeste\n",
    "R[6, 2, 7] = 1 #ir Pra leste\n",
    "\n",
    "#s=7, s_[2, 6, 8]\n",
    "R[7, 0, 2] = 1 #ir Pra norte\n",
    "R[7, 3, 6] = 1 #ir Pra oeste\n",
    "R[7, 2, 8] = 1 #ir Pra leste\n",
    "\n",
    "#s=8, s_[3, 7, 9]\n",
    "R[8, 0, 3] = 1 #ir Pra norte\n",
    "R[8, 3, 7] = 1 #ir Pra oeste\n",
    "R[8, 2, 9] = 1 #ir Pra leste\n",
    "\n",
    "\n",
    "#s=9, s_[4, 8]\n",
    "R[9, 0, 4] = 1 #ir Pra norte\n",
    "R[9, 3, 8] = 1 #ir Pra oeste\n"
   ]
  },
  {
   "cell_type": "code",
   "execution_count": 9,
   "metadata": {},
   "outputs": [],
   "source": [
    "H = np.random.rand(N_STATES)"
   ]
  },
  {
   "cell_type": "code",
   "execution_count": 10,
   "metadata": {},
   "outputs": [
    {
     "data": {
      "text/plain": [
       "array([0.54697248, 0.36854328, 0.72520768, 0.04199925, 0.41565655,\n",
       "       0.35852389, 0.83956958, 0.16910188, 0.76854216, 0.11365863])"
      ]
     },
     "execution_count": 10,
     "metadata": {},
     "output_type": "execute_result"
    }
   ],
   "source": [
    "H"
   ]
  },
  {
   "cell_type": "code",
   "execution_count": 11,
   "metadata": {},
   "outputs": [],
   "source": [
    "def prioritized_sweeping(MDP, R, epsilon, gamma):\n",
    "       \n",
    "    list_V = []\n",
    "    list_policy = []\n",
    "    numIter = 0\n",
    "    #1- inicializa V0 arbitrariamente\n",
    "    V = np.zeros(N_STATES)\n",
    "    #2- inicializa H0 arbitrariamente\n",
    "    H = np.random.rand(N_STATES)\n",
    "    policy = np.zeros(N_STATES)\n",
    "    epoca =1\n",
    "\n",
    "    #3. faca para toda iteracao k > 0\n",
    "    while True:\n",
    "        print('****** Epoca: ', epoca)\n",
    "        Vold = V.copy()\n",
    "    \n",
    "        #Parte A: escolha estado com maior prioridade: \n",
    "        s_k = np.argmax(H)\n",
    "        value_s_k = max(H)\n",
    "        \n",
    "        #Parte B: aplica operador de Bellman em sk e mantem o valor para os outros estados s != sk pertencentes a S:\n",
    "        # Vk+1(s) = Vk(s)\n",
    "        Q = []\n",
    "        q_best = 10000000\n",
    "        for a in (i for i, val in enumerate(MDP[s_k]) if np.count_nonzero(val) > 0): # a = MDP.shape[1]\n",
    "            q_sa = sum(MDP[s_k][a][s_] * (R[s_k][a][s_] + (Vold[s_] * gamma)) for s_ in range(MDP.shape[2]))\n",
    "            Q.append(q_sa)                    \n",
    "            if q_sa < q_best:\n",
    "                policy[s_k] = a\n",
    "                q_best = q_sa\n",
    "        try:    \n",
    "            V[s_k] = min(Q)\n",
    "        except:\n",
    "            V[s_k] = 0\n",
    "\n",
    "\n",
    "        #Parte C: para todo s diferente de s_k pertencente a S gere a nova função de prioridade Hk+1(s)\n",
    "        #enquanto não atinge critério de parada\n",
    "            \n",
    "        delta = np.absolute(V[s_k] - Vold[s_k])\n",
    "        for index_s in range(N_STATES):\n",
    "            new_priority = max([delta * MDP[s_k, a, index_s] for a in range(N_ACTIONS)])\n",
    "            if index_s != s_k:\n",
    "                H[index_s] = max(H[index_s], new_priority)\n",
    "            else:\n",
    "                H[index_s] = new_priority\n",
    "        \n",
    "\n",
    "        numIter = numIter +  MDP.shape[1]\n",
    "\n",
    "        \n",
    "        list_V.append(str(V))\n",
    "        list_policy.append(str(policy))\n",
    "        if np.absolute(np.sum(V - Vold)) < epsilon and np.max(H) < epsilon:\n",
    "            return V, policy, numIter, epoca, list_V, list_policy\n",
    "\n",
    "\n",
    "        epoca +=1"
   ]
  },
  {
   "cell_type": "code",
   "execution_count": 12,
   "metadata": {},
   "outputs": [
    {
     "name": "stdout",
     "output_type": "stream",
     "text": [
      "****** Epoca:  1\n",
      "****** Epoca:  2\n",
      "****** Epoca:  3\n",
      "****** Epoca:  4\n",
      "****** Epoca:  5\n",
      "****** Epoca:  6\n",
      "****** Epoca:  7\n",
      "****** Epoca:  8\n",
      "****** Epoca:  9\n",
      "****** Epoca:  10\n",
      "****** Epoca:  11\n",
      "****** Epoca:  12\n",
      "****** Epoca:  13\n",
      "****** Epoca:  14\n",
      "****** Epoca:  15\n",
      "****** Epoca:  16\n",
      "****** Epoca:  17\n",
      "****** Epoca:  18\n",
      "****** Epoca:  19\n",
      "****** Epoca:  20\n",
      "****** Epoca:  21\n",
      "****** Epoca:  22\n",
      "****** Epoca:  23\n",
      "****** Epoca:  24\n",
      "****** Epoca:  25\n",
      "****** Epoca:  26\n",
      "****** Epoca:  27\n",
      "****** Epoca:  28\n",
      "****** Epoca:  29\n",
      "****** Epoca:  30\n",
      "****** Epoca:  31\n",
      "****** Epoca:  32\n",
      "****** Epoca:  33\n",
      "****** Epoca:  34\n",
      "****** Epoca:  35\n",
      "****** Epoca:  36\n",
      "****** Epoca:  37\n",
      "****** Epoca:  38\n",
      "****** Epoca:  39\n",
      "****** Epoca:  40\n",
      "****** Epoca:  41\n",
      "****** Epoca:  42\n",
      "****** Epoca:  43\n",
      "****** Epoca:  44\n",
      "****** Epoca:  45\n",
      "****** Epoca:  46\n",
      "****** Epoca:  47\n",
      "****** Epoca:  48\n",
      "****** Epoca:  49\n",
      "****** Epoca:  50\n",
      "****** Epoca:  51\n",
      "****** Epoca:  52\n",
      "****** Epoca:  53\n",
      "****** Epoca:  54\n",
      "****** Epoca:  55\n",
      "****** Epoca:  56\n",
      "****** Epoca:  57\n",
      "****** Epoca:  58\n",
      "****** Epoca:  59\n",
      "****** Epoca:  60\n",
      "****** Epoca:  61\n",
      "****** Epoca:  62\n",
      "****** Epoca:  63\n",
      "****** Epoca:  64\n",
      "****** Epoca:  65\n",
      "****** Epoca:  66\n",
      "****** Epoca:  67\n",
      "****** Epoca:  68\n",
      "****** Epoca:  69\n",
      "****** Epoca:  70\n",
      "****** Epoca:  71\n",
      "****** Epoca:  72\n",
      "****** Epoca:  73\n",
      "****** Epoca:  74\n",
      "****** Epoca:  75\n",
      "****** Epoca:  76\n",
      "****** Epoca:  77\n",
      "****** Epoca:  78\n",
      "****** Epoca:  79\n",
      "****** Epoca:  80\n",
      "****** Epoca:  81\n",
      "****** Epoca:  82\n",
      "****** Epoca:  83\n",
      "****** Epoca:  84\n",
      "****** Epoca:  85\n",
      "****** Epoca:  86\n",
      "****** Epoca:  87\n",
      "****** Epoca:  88\n",
      "****** Epoca:  89\n",
      "****** Epoca:  90\n",
      "****** Epoca:  91\n"
     ]
    }
   ],
   "source": [
    "V, politica, numIter, epoca, list_V, list_policy = prioritized_sweeping(P, R, 0.01, 1)"
   ]
  },
  {
   "cell_type": "markdown",
   "metadata": {},
   "source": [
    "#### Solução esperada\n",
    "array([6.99984741, 5.99919128, 3.99991989, 1.99999619, 0.        ,\n",
    "       5.        , 4.        , 3.        , 2.        , 1.        ])"
   ]
  },
  {
   "cell_type": "code",
   "execution_count": 13,
   "metadata": {},
   "outputs": [
    {
     "data": {
      "text/plain": [
       "array([6.99830627, 5.93887329, 3.96777344, 1.984375  , 0.        ,\n",
       "       5.        , 4.        , 3.        , 2.        , 1.        ])"
      ]
     },
     "execution_count": 13,
     "metadata": {},
     "output_type": "execute_result"
    }
   ],
   "source": [
    "V"
   ]
  },
  {
   "cell_type": "markdown",
   "metadata": {},
   "source": [
    "### Política esperada\n",
    "array([1., 2., 2., 2., 0., 2., 2., 2., 2., 0.])"
   ]
  },
  {
   "cell_type": "code",
   "execution_count": 14,
   "metadata": {},
   "outputs": [
    {
     "data": {
      "text/plain": [
       "array([1., 2., 2., 2., 0., 2., 2., 2., 2., 0.])"
      ]
     },
     "execution_count": 14,
     "metadata": {},
     "output_type": "execute_result"
    }
   ],
   "source": [
    "politica"
   ]
  },
  {
   "cell_type": "code",
   "execution_count": 15,
   "metadata": {},
   "outputs": [
    {
     "data": {
      "text/plain": [
       "364"
      ]
     },
     "execution_count": 15,
     "metadata": {},
     "output_type": "execute_result"
    }
   ],
   "source": [
    "numIter"
   ]
  },
  {
   "cell_type": "code",
   "execution_count": 16,
   "metadata": {},
   "outputs": [
    {
     "data": {
      "text/plain": [
       "91"
      ]
     },
     "execution_count": 16,
     "metadata": {},
     "output_type": "execute_result"
    }
   ],
   "source": [
    "epoca"
   ]
  }
 ],
 "metadata": {
  "kernelspec": {
   "display_name": "Python 3",
   "language": "python",
   "name": "python3"
  },
  "language_info": {
   "codemirror_mode": {
    "name": "ipython",
    "version": 3
   },
   "file_extension": ".py",
   "mimetype": "text/x-python",
   "name": "python",
   "nbconvert_exporter": "python",
   "pygments_lexer": "ipython3",
   "version": "3.6.5"
  }
 },
 "nbformat": 4,
 "nbformat_minor": 2
}
